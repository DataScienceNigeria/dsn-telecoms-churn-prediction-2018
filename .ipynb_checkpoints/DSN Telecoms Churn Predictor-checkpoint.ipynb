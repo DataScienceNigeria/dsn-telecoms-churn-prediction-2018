{
 "cells": [
  {
   "cell_type": "code",
   "execution_count": 1,
   "metadata": {},
   "outputs": [],
   "source": [
    "# imports\n",
    "import pandas as pd\n",
    "import matplotlib.pyplot as plt\n",
    "import numpy as np\n",
    "import seaborn as sns\n",
    "import graphviz\n",
    "\n",
    "from sklearn import tree\n",
    "from sklearn.model_selection import GridSearchCV\n",
    "\n",
    "from sklearn.ensemble import RandomForestClassifier\n",
    "from sklearn.ensemble import ExtraTreesClassifier\n",
    "\n",
    "from sklearn.ensemble import AdaBoostClassifier\n",
    "\n",
    "%matplotlib inline"
   ]
  },
  {
   "cell_type": "code",
   "execution_count": 2,
   "metadata": {
    "collapsed": true
   },
   "outputs": [],
   "source": [
    "# load datasets\n",
    "train_df = pd.read_csv('TRAIN.csv', index_col=0)\n",
    "test_df = pd.read_csv('TEST.csv', index_col = 0)"
   ]
  },
  {
   "cell_type": "code",
   "execution_count": 3,
   "metadata": {},
   "outputs": [
    {
     "data": {
      "text/html": [
       "<div>\n",
       "<style scoped>\n",
       "    .dataframe tbody tr th:only-of-type {\n",
       "        vertical-align: middle;\n",
       "    }\n",
       "\n",
       "    .dataframe tbody tr th {\n",
       "        vertical-align: top;\n",
       "    }\n",
       "\n",
       "    .dataframe thead th {\n",
       "        text-align: right;\n",
       "    }\n",
       "</style>\n",
       "<table border=\"1\" class=\"dataframe\">\n",
       "  <thead>\n",
       "    <tr style=\"text-align: right;\">\n",
       "      <th></th>\n",
       "      <th>network_age</th>\n",
       "      <th>Customer tenure in month</th>\n",
       "      <th>Total Spend in Months 1 and 2 of 2017</th>\n",
       "      <th>Total SMS Spend</th>\n",
       "      <th>Total Data Spend</th>\n",
       "      <th>Total Data Consumption</th>\n",
       "      <th>Total Unique Calls</th>\n",
       "      <th>Total Onnet spend</th>\n",
       "      <th>Total Offnet spend</th>\n",
       "      <th>Total Call centre complaint calls</th>\n",
       "      <th>Network type subscription in Month 1</th>\n",
       "      <th>Network type subscription in Month 2</th>\n",
       "      <th>Most Loved Competitor network in in Month 1</th>\n",
       "      <th>Most Loved Competitor network in in Month 2</th>\n",
       "      <th>Churn Status</th>\n",
       "    </tr>\n",
       "    <tr>\n",
       "      <th>Customer ID</th>\n",
       "      <th></th>\n",
       "      <th></th>\n",
       "      <th></th>\n",
       "      <th></th>\n",
       "      <th></th>\n",
       "      <th></th>\n",
       "      <th></th>\n",
       "      <th></th>\n",
       "      <th></th>\n",
       "      <th></th>\n",
       "      <th></th>\n",
       "      <th></th>\n",
       "      <th></th>\n",
       "      <th></th>\n",
       "      <th></th>\n",
       "    </tr>\n",
       "  </thead>\n",
       "  <tbody>\n",
       "    <tr>\n",
       "      <th>ADF0039</th>\n",
       "      <td>123.0</td>\n",
       "      <td>4.10</td>\n",
       "      <td>76.7140</td>\n",
       "      <td>0.00</td>\n",
       "      <td>1.25</td>\n",
       "      <td>1.4951</td>\n",
       "      <td>14.0</td>\n",
       "      <td>564.0</td>\n",
       "      <td>6408.0</td>\n",
       "      <td>2.0</td>\n",
       "      <td>2G</td>\n",
       "      <td>2G</td>\n",
       "      <td>Uxaa</td>\n",
       "      <td>Mango</td>\n",
       "      <td>0.0</td>\n",
       "    </tr>\n",
       "    <tr>\n",
       "      <th>ADF0041</th>\n",
       "      <td>1316.0</td>\n",
       "      <td>43.87</td>\n",
       "      <td>98.8904</td>\n",
       "      <td>4.14</td>\n",
       "      <td>1.25</td>\n",
       "      <td>1.0244</td>\n",
       "      <td>27.0</td>\n",
       "      <td>1626.0</td>\n",
       "      <td>4373.0</td>\n",
       "      <td>1.0</td>\n",
       "      <td>2G</td>\n",
       "      <td>2G</td>\n",
       "      <td>Uxaa</td>\n",
       "      <td>Mango</td>\n",
       "      <td>0.0</td>\n",
       "    </tr>\n",
       "    <tr>\n",
       "      <th>ADF0051</th>\n",
       "      <td>2385.0</td>\n",
       "      <td>79.50</td>\n",
       "      <td>372.6300</td>\n",
       "      <td>3.51</td>\n",
       "      <td>1.25</td>\n",
       "      <td>6.0898</td>\n",
       "      <td>119.0</td>\n",
       "      <td>10411.0</td>\n",
       "      <td>22039.0</td>\n",
       "      <td>1.0</td>\n",
       "      <td>2G</td>\n",
       "      <td>2G</td>\n",
       "      <td>Weematel</td>\n",
       "      <td>Mango</td>\n",
       "      <td>0.0</td>\n",
       "    </tr>\n",
       "    <tr>\n",
       "      <th>ADF0059</th>\n",
       "      <td>1614.0</td>\n",
       "      <td>53.80</td>\n",
       "      <td>530.2000</td>\n",
       "      <td>6.85</td>\n",
       "      <td>1.25</td>\n",
       "      <td>3.3447</td>\n",
       "      <td>69.0</td>\n",
       "      <td>6822.0</td>\n",
       "      <td>6274.0</td>\n",
       "      <td>1.0</td>\n",
       "      <td>2G</td>\n",
       "      <td>2G</td>\n",
       "      <td>0</td>\n",
       "      <td>Mango</td>\n",
       "      <td>0.0</td>\n",
       "    </tr>\n",
       "    <tr>\n",
       "      <th>ADF0060</th>\n",
       "      <td>2175.0</td>\n",
       "      <td>72.50</td>\n",
       "      <td>554.1300</td>\n",
       "      <td>6.99</td>\n",
       "      <td>153.75</td>\n",
       "      <td>673204.0342</td>\n",
       "      <td>33.0</td>\n",
       "      <td>3387.0</td>\n",
       "      <td>7241.0</td>\n",
       "      <td>1.0</td>\n",
       "      <td>2G</td>\n",
       "      <td>3G</td>\n",
       "      <td>Weematel</td>\n",
       "      <td>Mango</td>\n",
       "      <td>0.0</td>\n",
       "    </tr>\n",
       "  </tbody>\n",
       "</table>\n",
       "</div>"
      ],
      "text/plain": [
       "             network_age  Customer tenure in month  \\\n",
       "Customer ID                                          \n",
       "ADF0039            123.0                      4.10   \n",
       "ADF0041           1316.0                     43.87   \n",
       "ADF0051           2385.0                     79.50   \n",
       "ADF0059           1614.0                     53.80   \n",
       "ADF0060           2175.0                     72.50   \n",
       "\n",
       "             Total Spend in Months 1 and 2 of 2017  Total SMS Spend  \\\n",
       "Customer ID                                                           \n",
       "ADF0039                                    76.7140             0.00   \n",
       "ADF0041                                    98.8904             4.14   \n",
       "ADF0051                                   372.6300             3.51   \n",
       "ADF0059                                   530.2000             6.85   \n",
       "ADF0060                                   554.1300             6.99   \n",
       "\n",
       "             Total Data Spend  Total Data Consumption  Total Unique Calls  \\\n",
       "Customer ID                                                                 \n",
       "ADF0039                  1.25                  1.4951                14.0   \n",
       "ADF0041                  1.25                  1.0244                27.0   \n",
       "ADF0051                  1.25                  6.0898               119.0   \n",
       "ADF0059                  1.25                  3.3447                69.0   \n",
       "ADF0060                153.75             673204.0342                33.0   \n",
       "\n",
       "             Total Onnet spend   Total Offnet spend  \\\n",
       "Customer ID                                           \n",
       "ADF0039                   564.0              6408.0   \n",
       "ADF0041                  1626.0              4373.0   \n",
       "ADF0051                 10411.0             22039.0   \n",
       "ADF0059                  6822.0              6274.0   \n",
       "ADF0060                  3387.0              7241.0   \n",
       "\n",
       "             Total Call centre complaint calls  \\\n",
       "Customer ID                                      \n",
       "ADF0039                                    2.0   \n",
       "ADF0041                                    1.0   \n",
       "ADF0051                                    1.0   \n",
       "ADF0059                                    1.0   \n",
       "ADF0060                                    1.0   \n",
       "\n",
       "            Network type subscription in Month 1  \\\n",
       "Customer ID                                        \n",
       "ADF0039                                       2G   \n",
       "ADF0041                                       2G   \n",
       "ADF0051                                       2G   \n",
       "ADF0059                                       2G   \n",
       "ADF0060                                       2G   \n",
       "\n",
       "            Network type subscription in Month 2  \\\n",
       "Customer ID                                        \n",
       "ADF0039                                       2G   \n",
       "ADF0041                                       2G   \n",
       "ADF0051                                       2G   \n",
       "ADF0059                                       2G   \n",
       "ADF0060                                       3G   \n",
       "\n",
       "            Most Loved Competitor network in in Month 1  \\\n",
       "Customer ID                                               \n",
       "ADF0039                                            Uxaa   \n",
       "ADF0041                                            Uxaa   \n",
       "ADF0051                                        Weematel   \n",
       "ADF0059                                               0   \n",
       "ADF0060                                        Weematel   \n",
       "\n",
       "            Most Loved Competitor network in in Month 2  Churn Status  \n",
       "Customer ID                                                            \n",
       "ADF0039                                           Mango           0.0  \n",
       "ADF0041                                           Mango           0.0  \n",
       "ADF0051                                           Mango           0.0  \n",
       "ADF0059                                           Mango           0.0  \n",
       "ADF0060                                           Mango           0.0  "
      ]
     },
     "execution_count": 3,
     "metadata": {},
     "output_type": "execute_result"
    }
   ],
   "source": [
    "# take a peak\n",
    "train_df.head()"
   ]
  },
  {
   "cell_type": "markdown",
   "metadata": {},
   "source": [
    "# Field Descriptors\n",
    "• Total Spend in Months 1 and 2 of 2017: The total spend of a customer in the months July & August 2017.\n",
    "\n",
    "• Total SMS Spend: The total spend on SMS by a customer revenue earned through the SMS service used by the subscriber.\n",
    "\n",
    "• Total Data Spend: The total amount spend on Data/Internet by a customer revenue earned through the SMS service used by the subscriber.\n",
    "\n",
    "• Total Data Consumption : The total data consumed by a subscriber in KB over the period under study\n",
    "\n",
    "• Total Unique Calls: The total count of unique calls made by a subscriber during the period under review\n",
    "\n",
    "• Total Onnet spend: The total spend of a customer to make on-network calls (on the same network as the subscriber)\n",
    "\n",
    "• Total Offnet spend: Aggregate of Off Net Revenue: The total spend of a customer to make off-network calls (not the same network as the subscriber)\n",
    "\n",
    "• Customer Tenure in Months: The time passed since the subscriber started using the services of the network provider and counted in months\n",
    "\n",
    "• Network type subscription in Month 1: This indicates preferred network subscription of a customer, which may indicate their type of device - 2G or 3G service.\n",
    "\n",
    "• Network type subscription in Month 2: This indicates preferred network subscription of a customer, which may indicate their type of device - 2G or 3G service in the month after.\n",
    "\n",
    "• Total Call centre complaint calls: The number of complaints made by the subscribers.\n",
    "\n",
    "• Most Loved Competitor network in in Month 1: This information certainly have a huge impact on as it gives the information about which other service provider prefer and may likely move to\n",
    "\n",
    "• Most Loved Competitor network in in Month 2: This information certainly have a huge impact on as it gives the information about which other service provider prefer and may likely move to\n",
    "\n",
    "• Churn Status: This is an indicator of a customer who leaves the network or not. 1 means the customer has churned and 0 means no churn."
   ]
  },
  {
   "cell_type": "code",
   "execution_count": 4,
   "metadata": {},
   "outputs": [
    {
     "data": {
      "text/html": [
       "<div>\n",
       "<style scoped>\n",
       "    .dataframe tbody tr th:only-of-type {\n",
       "        vertical-align: middle;\n",
       "    }\n",
       "\n",
       "    .dataframe tbody tr th {\n",
       "        vertical-align: top;\n",
       "    }\n",
       "\n",
       "    .dataframe thead th {\n",
       "        text-align: right;\n",
       "    }\n",
       "</style>\n",
       "<table border=\"1\" class=\"dataframe\">\n",
       "  <thead>\n",
       "    <tr style=\"text-align: right;\">\n",
       "      <th></th>\n",
       "      <th>network_age</th>\n",
       "      <th>Customer tenure in month</th>\n",
       "      <th>Total Spend in Months 1 and 2 of 2017</th>\n",
       "      <th>Total SMS Spend</th>\n",
       "      <th>Total Data Spend</th>\n",
       "      <th>Total Data Consumption</th>\n",
       "      <th>Total Unique Calls</th>\n",
       "      <th>Total Onnet spend</th>\n",
       "      <th>Total Offnet spend</th>\n",
       "      <th>Total Call centre complaint calls</th>\n",
       "      <th>Churn Status</th>\n",
       "    </tr>\n",
       "  </thead>\n",
       "  <tbody>\n",
       "    <tr>\n",
       "      <th>count</th>\n",
       "      <td>1400.000000</td>\n",
       "      <td>1400.000000</td>\n",
       "      <td>1400.000000</td>\n",
       "      <td>1400.000000</td>\n",
       "      <td>1400.000000</td>\n",
       "      <td>1.400000e+03</td>\n",
       "      <td>1400.000000</td>\n",
       "      <td>1400.000000</td>\n",
       "      <td>1400.00000</td>\n",
       "      <td>1400.000000</td>\n",
       "      <td>1400.000000</td>\n",
       "    </tr>\n",
       "    <tr>\n",
       "      <th>mean</th>\n",
       "      <td>1450.634286</td>\n",
       "      <td>48.354479</td>\n",
       "      <td>805.641729</td>\n",
       "      <td>30.394286</td>\n",
       "      <td>58.482293</td>\n",
       "      <td>2.162307e+06</td>\n",
       "      <td>202.422143</td>\n",
       "      <td>6814.392143</td>\n",
       "      <td>15730.42000</td>\n",
       "      <td>1.922143</td>\n",
       "      <td>0.500000</td>\n",
       "    </tr>\n",
       "    <tr>\n",
       "      <th>std</th>\n",
       "      <td>1276.008188</td>\n",
       "      <td>42.533536</td>\n",
       "      <td>1251.742068</td>\n",
       "      <td>60.885095</td>\n",
       "      <td>289.613589</td>\n",
       "      <td>6.865958e+06</td>\n",
       "      <td>302.036220</td>\n",
       "      <td>16707.784943</td>\n",
       "      <td>37448.94212</td>\n",
       "      <td>2.345515</td>\n",
       "      <td>0.500179</td>\n",
       "    </tr>\n",
       "    <tr>\n",
       "      <th>min</th>\n",
       "      <td>-5.000000</td>\n",
       "      <td>-0.170000</td>\n",
       "      <td>4.910000</td>\n",
       "      <td>0.000000</td>\n",
       "      <td>0.000000</td>\n",
       "      <td>5.860000e-02</td>\n",
       "      <td>1.000000</td>\n",
       "      <td>0.000000</td>\n",
       "      <td>0.00000</td>\n",
       "      <td>1.000000</td>\n",
       "      <td>0.000000</td>\n",
       "    </tr>\n",
       "    <tr>\n",
       "      <th>25%</th>\n",
       "      <td>287.000000</td>\n",
       "      <td>9.567500</td>\n",
       "      <td>155.537500</td>\n",
       "      <td>2.620000</td>\n",
       "      <td>1.250000</td>\n",
       "      <td>1.384346e+03</td>\n",
       "      <td>18.000000</td>\n",
       "      <td>60.000000</td>\n",
       "      <td>1123.00000</td>\n",
       "      <td>1.000000</td>\n",
       "      <td>0.000000</td>\n",
       "    </tr>\n",
       "    <tr>\n",
       "      <th>50%</th>\n",
       "      <td>1171.000000</td>\n",
       "      <td>39.030000</td>\n",
       "      <td>606.575000</td>\n",
       "      <td>13.715000</td>\n",
       "      <td>11.250000</td>\n",
       "      <td>1.193487e+05</td>\n",
       "      <td>81.500000</td>\n",
       "      <td>1617.000000</td>\n",
       "      <td>4171.00000</td>\n",
       "      <td>1.000000</td>\n",
       "      <td>0.500000</td>\n",
       "    </tr>\n",
       "    <tr>\n",
       "      <th>75%</th>\n",
       "      <td>2242.000000</td>\n",
       "      <td>74.732500</td>\n",
       "      <td>1018.395500</td>\n",
       "      <td>31.205000</td>\n",
       "      <td>42.812500</td>\n",
       "      <td>1.206785e+06</td>\n",
       "      <td>254.250000</td>\n",
       "      <td>7177.750000</td>\n",
       "      <td>13151.50000</td>\n",
       "      <td>2.000000</td>\n",
       "      <td>1.000000</td>\n",
       "    </tr>\n",
       "    <tr>\n",
       "      <th>max</th>\n",
       "      <td>5451.000000</td>\n",
       "      <td>181.700000</td>\n",
       "      <td>24438.830000</td>\n",
       "      <td>873.980000</td>\n",
       "      <td>8295.000000</td>\n",
       "      <td>9.945640e+07</td>\n",
       "      <td>2596.000000</td>\n",
       "      <td>381174.000000</td>\n",
       "      <td>431440.00000</td>\n",
       "      <td>49.000000</td>\n",
       "      <td>1.000000</td>\n",
       "    </tr>\n",
       "  </tbody>\n",
       "</table>\n",
       "</div>"
      ],
      "text/plain": [
       "       network_age  Customer tenure in month  \\\n",
       "count  1400.000000               1400.000000   \n",
       "mean   1450.634286                 48.354479   \n",
       "std    1276.008188                 42.533536   \n",
       "min      -5.000000                 -0.170000   \n",
       "25%     287.000000                  9.567500   \n",
       "50%    1171.000000                 39.030000   \n",
       "75%    2242.000000                 74.732500   \n",
       "max    5451.000000                181.700000   \n",
       "\n",
       "       Total Spend in Months 1 and 2 of 2017  Total SMS Spend  \\\n",
       "count                            1400.000000      1400.000000   \n",
       "mean                              805.641729        30.394286   \n",
       "std                              1251.742068        60.885095   \n",
       "min                                 4.910000         0.000000   \n",
       "25%                               155.537500         2.620000   \n",
       "50%                               606.575000        13.715000   \n",
       "75%                              1018.395500        31.205000   \n",
       "max                             24438.830000       873.980000   \n",
       "\n",
       "       Total Data Spend  Total Data Consumption  Total Unique Calls  \\\n",
       "count       1400.000000            1.400000e+03         1400.000000   \n",
       "mean          58.482293            2.162307e+06          202.422143   \n",
       "std          289.613589            6.865958e+06          302.036220   \n",
       "min            0.000000            5.860000e-02            1.000000   \n",
       "25%            1.250000            1.384346e+03           18.000000   \n",
       "50%           11.250000            1.193487e+05           81.500000   \n",
       "75%           42.812500            1.206785e+06          254.250000   \n",
       "max         8295.000000            9.945640e+07         2596.000000   \n",
       "\n",
       "       Total Onnet spend   Total Offnet spend  \\\n",
       "count         1400.000000          1400.00000   \n",
       "mean          6814.392143         15730.42000   \n",
       "std          16707.784943         37448.94212   \n",
       "min              0.000000             0.00000   \n",
       "25%             60.000000          1123.00000   \n",
       "50%           1617.000000          4171.00000   \n",
       "75%           7177.750000         13151.50000   \n",
       "max         381174.000000        431440.00000   \n",
       "\n",
       "       Total Call centre complaint calls  Churn Status  \n",
       "count                        1400.000000   1400.000000  \n",
       "mean                            1.922143      0.500000  \n",
       "std                             2.345515      0.500179  \n",
       "min                             1.000000      0.000000  \n",
       "25%                             1.000000      0.000000  \n",
       "50%                             1.000000      0.500000  \n",
       "75%                             2.000000      1.000000  \n",
       "max                            49.000000      1.000000  "
      ]
     },
     "execution_count": 4,
     "metadata": {},
     "output_type": "execute_result"
    }
   ],
   "source": [
    "# Describe the data\n",
    "train_df.describe()"
   ]
  },
  {
   "cell_type": "markdown",
   "metadata": {},
   "source": [
    "### Investigate for possible cleaning\n",
    "* Network age has a negative value in min. What does this mean?\n",
    "* Customer tenure in month has a negative value in min. What does this mean?"
   ]
  },
  {
   "cell_type": "code",
   "execution_count": 5,
   "metadata": {},
   "outputs": [
    {
     "name": "stdout",
     "output_type": "stream",
     "text": [
      "<class 'pandas.core.frame.DataFrame'>\n",
      "Index: 1401 entries, ADF0039 to nan\n",
      "Data columns (total 15 columns):\n",
      "network_age                                    1400 non-null float64\n",
      "Customer tenure in month                       1400 non-null float64\n",
      "Total Spend in Months 1 and 2 of 2017          1400 non-null float64\n",
      "Total SMS Spend                                1400 non-null float64\n",
      "Total Data Spend                               1400 non-null float64\n",
      "Total Data Consumption                         1400 non-null float64\n",
      "Total Unique Calls                             1400 non-null float64\n",
      "Total Onnet spend                              1400 non-null float64\n",
      "Total Offnet spend                             1400 non-null float64\n",
      "Total Call centre complaint calls              1400 non-null float64\n",
      "Network type subscription in Month 1           1225 non-null object\n",
      "Network type subscription in Month 2           1256 non-null object\n",
      "Most Loved Competitor network in in Month 1    1399 non-null object\n",
      "Most Loved Competitor network in in Month 2    1399 non-null object\n",
      "Churn Status                                   1400 non-null float64\n",
      "dtypes: float64(11), object(4)\n",
      "memory usage: 175.1+ KB\n"
     ]
    }
   ],
   "source": [
    "# get info on data\n",
    "train_df.info()"
   ]
  },
  {
   "cell_type": "markdown",
   "metadata": {},
   "source": [
    "### Investigate the following for missing data\n",
    "* Network type subscription in Month 1\n",
    "* Network type subscription in Month 2\n",
    "* Most Loved Competitor network in in Month 1\n",
    "* Most Loved Competitor network in in Month 2"
   ]
  },
  {
   "cell_type": "markdown",
   "metadata": {},
   "source": [
    "# Exploratory Data Analysis"
   ]
  },
  {
   "cell_type": "code",
   "execution_count": 6,
   "metadata": {},
   "outputs": [
    {
     "data": {
      "text/plain": [
       "<matplotlib.axes._subplots.AxesSubplot at 0x11b7304e0>"
      ]
     },
     "execution_count": 6,
     "metadata": {},
     "output_type": "execute_result"
    },
    {
     "data": {
      "image/png": "[encoded data removed]",
      "text/plain": [
       "<matplotlib.figure.Figure at 0x1113bf780>"
      ]
     },
     "metadata": {},
     "output_type": "display_data"
    }
   ],
   "source": [
    "# Target variable is churn. What is the spread like?\n",
    "#train_df['Churn Status'].value_counts().plot.bar()\n",
    "sns.countplot(x='Churn Status', data=train_df)"
   ]
  },
  {
   "cell_type": "code",
   "execution_count": 7,
   "metadata": {},
   "outputs": [
    {
     "data": {
      "text/plain": [
       "1.0    700\n",
       "0.0    700\n",
       "Name: Churn Status, dtype: int64"
      ]
     },
     "execution_count": 7,
     "metadata": {},
     "output_type": "execute_result"
    }
   ],
   "source": [
    "train_df['Churn Status'].value_counts()"
   ]
  },
  {
   "cell_type": "markdown",
   "metadata": {},
   "source": [
    "The above information imples that the baseline model should predict 0.5"
   ]
  },
  {
   "cell_type": "code",
   "execution_count": 8,
   "metadata": {
    "collapsed": true
   },
   "outputs": [],
   "source": [
    "churn_df = train_df[train_df['Churn Status'] == 1]\n",
    "no_churn_df = train_df[train_df['Churn Status'] == 0]"
   ]
  },
  {
   "cell_type": "markdown",
   "metadata": {},
   "source": [
    "# Feature Engineering\n",
    "### Fix missing values"
   ]
  },
  {
   "cell_type": "code",
   "execution_count": 9,
   "metadata": {
    "collapsed": true
   },
   "outputs": [],
   "source": [
    "# more spend offnet\n",
    "train_df['more_offnet'] = train_df['Total Onnet spend '] < train_df['Total Offnet spend']\n",
    "test_df['more_offnet'] = test_df['Total Onnet spend '] < test_df['Total Offnet spend']"
   ]
  },
  {
   "cell_type": "code",
   "execution_count": 10,
   "metadata": {
    "collapsed": true
   },
   "outputs": [],
   "source": [
    "# fill missing values\n",
    "train_df['Network type subscription in Month 1'] = train_df['Network type subscription in Month 1'].fillna('3G')\n",
    "train_df['Network type subscription in Month 2'] = train_df['Network type subscription in Month 2'].fillna('3G')"
   ]
  },
  {
   "cell_type": "code",
   "execution_count": 11,
   "metadata": {
    "collapsed": true
   },
   "outputs": [],
   "source": [
    "train_df['Most Loved Competitor network in in Month 1'] = train_df['Most Loved Competitor network in in Month 1'].fillna('Uxaa')\n",
    "train_df['Most Loved Competitor network in in Month 2'] = train_df['Most Loved Competitor network in in Month 2'].fillna('Uxaa')"
   ]
  },
  {
   "cell_type": "code",
   "execution_count": 12,
   "metadata": {
    "collapsed": true
   },
   "outputs": [],
   "source": [
    "# drop empty rows\n",
    "train_df.dropna(inplace=True, how='any', axis=0)"
   ]
  },
  {
   "cell_type": "code",
   "execution_count": 13,
   "metadata": {},
   "outputs": [
    {
     "data": {
      "text/plain": [
       "1.0     897\n",
       "2.0     268\n",
       "3.0      92\n",
       "4.0      50\n",
       "5.0      24\n",
       "6.0      20\n",
       "7.0      10\n",
       "8.0       9\n",
       "11.0      7\n",
       "9.0       5\n",
       "10.0      4\n",
       "12.0      3\n",
       "13.0      3\n",
       "14.0      2\n",
       "16.0      2\n",
       "18.0      1\n",
       "49.0      1\n",
       "15.0      1\n",
       "21.0      1\n",
       "Name: Total Call centre complaint calls, dtype: int64"
      ]
     },
     "execution_count": 13,
     "metadata": {},
     "output_type": "execute_result"
    }
   ],
   "source": [
    "train_df['Total Call centre complaint calls'].value_counts()"
   ]
  },
  {
   "cell_type": "code",
   "execution_count": 14,
   "metadata": {
    "collapsed": true
   },
   "outputs": [],
   "source": [
    "# bin numerical variables\n",
    "def create_bins(data):\n",
    "    data['cat_network_age'] = pd.qcut(data['network_age'], q=4, labels=False)\n",
    "    data['cat_spend'] = pd.qcut(data['Total Spend in Months 1 and 2 of 2017'], q=4, labels=False)\n",
    "    data['cat_sms_spend'] = pd.qcut(data['Total SMS Spend'], q=4, labels=False)\n",
    "    data['cat_data_spend'] = pd.qcut(data['Total Data Spend'], q=4, labels=False)\n",
    "    data['cat_data_consumption'] = pd.qcut(data['Total Data Consumption'], q=4, labels=False)\n",
    "    data['cat_unique_calls'] = pd.qcut(data['Total Unique Calls'], q=4, labels=False)\n",
    "    data['cat_onnet_spend'] = pd.qcut(data['Total Onnet spend '], q=4, labels=False)\n",
    "    data['cat_offnet_spend'] = pd.qcut(data['Total Offnet spend'], q=4, labels=False)\n",
    "    data['cat_complaints'] = pd.qcut(data['Total Call centre complaint calls'], q=4, labels=False, duplicates='drop')\n",
    "    \n",
    "    # drop columns\n",
    "    data.drop(inplace=True, columns=['network_age', 'Total Spend in Months 1 and 2 of 2017', 'Total SMS Spend', 'Total Data Spend', 'Total Data Consumption', 'Total Unique Calls', 'Total Onnet spend ', 'Total Offnet spend', 'Total Call centre complaint calls'])\n",
    "    return data"
   ]
  },
  {
   "cell_type": "code",
   "execution_count": 15,
   "metadata": {
    "collapsed": true
   },
   "outputs": [],
   "source": [
    "# convert categorical variables\n",
    "def create_dummies(data):\n",
    "    data_dum = pd.get_dummies(data, drop_first=True)\n",
    "    return data_dum"
   ]
  },
  {
   "cell_type": "code",
   "execution_count": 16,
   "metadata": {},
   "outputs": [
    {
     "name": "stdout",
     "output_type": "stream",
     "text": [
      "<class 'pandas.core.frame.DataFrame'>\n",
      "Index: 1400 entries, ADF0039 to ADF1982\n",
      "Data columns (total 16 columns):\n",
      "Customer tenure in month                       1400 non-null float64\n",
      "Network type subscription in Month 1           1400 non-null object\n",
      "Network type subscription in Month 2           1400 non-null object\n",
      "Most Loved Competitor network in in Month 1    1400 non-null object\n",
      "Most Loved Competitor network in in Month 2    1400 non-null object\n",
      "Churn Status                                   1400 non-null float64\n",
      "more_offnet                                    1400 non-null bool\n",
      "cat_network_age                                1400 non-null int64\n",
      "cat_spend                                      1400 non-null int64\n",
      "cat_sms_spend                                  1400 non-null int64\n",
      "cat_data_spend                                 1400 non-null int64\n",
      "cat_data_consumption                           1400 non-null int64\n",
      "cat_unique_calls                               1400 non-null int64\n",
      "cat_onnet_spend                                1400 non-null int64\n",
      "cat_offnet_spend                               1400 non-null int64\n",
      "cat_complaints                                 1400 non-null int64\n",
      "dtypes: bool(1), float64(2), int64(9), object(4)\n",
      "memory usage: 176.4+ KB\n"
     ]
    }
   ],
   "source": [
    "binned_train_df = create_bins(train_df)\n",
    "binned_train_df.info()"
   ]
  },
  {
   "cell_type": "code",
   "execution_count": 17,
   "metadata": {},
   "outputs": [
    {
     "name": "stdout",
     "output_type": "stream",
     "text": [
      "<class 'pandas.core.frame.DataFrame'>\n",
      "Index: 1400 entries, ADF0039 to ADF1982\n",
      "Data columns (total 27 columns):\n",
      "Customer tenure in month                                1400 non-null float64\n",
      "Churn Status                                            1400 non-null float64\n",
      "more_offnet                                             1400 non-null bool\n",
      "cat_network_age                                         1400 non-null int64\n",
      "cat_spend                                               1400 non-null int64\n",
      "cat_sms_spend                                           1400 non-null int64\n",
      "cat_data_spend                                          1400 non-null int64\n",
      "cat_data_consumption                                    1400 non-null int64\n",
      "cat_unique_calls                                        1400 non-null int64\n",
      "cat_onnet_spend                                         1400 non-null int64\n",
      "cat_offnet_spend                                        1400 non-null int64\n",
      "cat_complaints                                          1400 non-null int64\n",
      "Network type subscription in Month 1_3G                 1400 non-null uint8\n",
      "Network type subscription in Month 1_Other              1400 non-null uint8\n",
      "Network type subscription in Month 2_3G                 1400 non-null uint8\n",
      "Network type subscription in Month 2_Other              1400 non-null uint8\n",
      "Most Loved Competitor network in in Month 1_Mango       1400 non-null uint8\n",
      "Most Loved Competitor network in in Month 1_PQza        1400 non-null uint8\n",
      "Most Loved Competitor network in in Month 1_ToCall      1400 non-null uint8\n",
      "Most Loved Competitor network in in Month 1_Uxaa        1400 non-null uint8\n",
      "Most Loved Competitor network in in Month 1_Weematel    1400 non-null uint8\n",
      "Most Loved Competitor network in in Month 1_Zintel      1400 non-null uint8\n",
      "Most Loved Competitor network in in Month 2_PQza        1400 non-null uint8\n",
      "Most Loved Competitor network in in Month 2_ToCall      1400 non-null uint8\n",
      "Most Loved Competitor network in in Month 2_Uxaa        1400 non-null uint8\n",
      "Most Loved Competitor network in in Month 2_Weematel    1400 non-null uint8\n",
      "Most Loved Competitor network in in Month 2_Zintel      1400 non-null uint8\n",
      "dtypes: bool(1), float64(2), int64(9), uint8(15)\n",
      "memory usage: 153.1+ KB\n"
     ]
    }
   ],
   "source": [
    "cleaned_train_df = create_dummies(binned_train_df)\n",
    "cleaned_train_df.info()"
   ]
  },
  {
   "cell_type": "markdown",
   "metadata": {},
   "source": [
    "## Network Age"
   ]
  },
  {
   "cell_type": "code",
   "execution_count": 18,
   "metadata": {
    "collapsed": true
   },
   "outputs": [],
   "source": [
    "#churn_df['network_age'].plot.hist()"
   ]
  },
  {
   "cell_type": "code",
   "execution_count": 19,
   "metadata": {},
   "outputs": [
    {
     "data": {
      "text/plain": [
       "<seaborn.axisgrid.FacetGrid at 0x11b85fdd8>"
      ]
     },
     "execution_count": 19,
     "metadata": {},
     "output_type": "execute_result"
    },
    {
     "data": {
      "image/png": "[encoded data removed]",
      "text/plain": [
       "<matplotlib.figure.Figure at 0x11b7de4a8>"
      ]
     },
     "metadata": {},
     "output_type": "display_data"
    }
   ],
   "source": [
    "#no_churn_df['network_age'].plot.hist()\n",
    "sns.factorplot(x='Churn Status', data=binned_train_df, kind='count', col='cat_network_age')"
   ]
  },
  {
   "cell_type": "markdown",
   "metadata": {},
   "source": [
    "## Customer tenure in month"
   ]
  },
  {
   "cell_type": "code",
   "execution_count": 20,
   "metadata": {
    "collapsed": true
   },
   "outputs": [],
   "source": [
    "# churn_df['Customer tenure in month'].plot.hist()"
   ]
  },
  {
   "cell_type": "code",
   "execution_count": 21,
   "metadata": {
    "collapsed": true
   },
   "outputs": [],
   "source": [
    "# no_churn_df['Customer tenure in month'].plot.hist()\n",
    "#sns.factorplot(x='Churn Status', data=binned_train_df, kind='count', col='cat_network_age')"
   ]
  },
  {
   "cell_type": "markdown",
   "metadata": {},
   "source": [
    "## Total Spend in Months 1 and 2 of 2017"
   ]
  },
  {
   "cell_type": "code",
   "execution_count": 22,
   "metadata": {
    "collapsed": true
   },
   "outputs": [],
   "source": [
    "# churn_df['Total Spend in Months 1 and 2 of 2017'].plot.hist(bins=20)"
   ]
  },
  {
   "cell_type": "code",
   "execution_count": 23,
   "metadata": {},
   "outputs": [
    {
     "data": {
      "text/plain": [
       "<seaborn.axisgrid.FacetGrid at 0x11f0a09b0>"
      ]
     },
     "execution_count": 23,
     "metadata": {},
     "output_type": "execute_result"
    },
    {
     "data": {
      "image/png": "[encoded data removed]",
      "text/plain": [
       "<matplotlib.figure.Figure at 0x11f1cf898>"
      ]
     },
     "metadata": {},
     "output_type": "display_data"
    }
   ],
   "source": [
    "# no_churn_df['Total Spend in Months 1 and 2 of 2017'].plot.hist(bins=20)\n",
    "sns.factorplot(x='Churn Status', data=binned_train_df, kind='count', col='cat_spend')"
   ]
  },
  {
   "cell_type": "markdown",
   "metadata": {},
   "source": [
    "## Total SMS Spend"
   ]
  },
  {
   "cell_type": "code",
   "execution_count": 24,
   "metadata": {
    "collapsed": true
   },
   "outputs": [],
   "source": [
    "#churn_df['Total SMS Spend'].plot.hist(bins=10)"
   ]
  },
  {
   "cell_type": "code",
   "execution_count": 25,
   "metadata": {
    "collapsed": true
   },
   "outputs": [],
   "source": [
    "#churn_df['Total SMS Spend'].describe()"
   ]
  },
  {
   "cell_type": "code",
   "execution_count": 26,
   "metadata": {
    "collapsed": true
   },
   "outputs": [],
   "source": [
    "#no_churn_df['Total SMS Spend'].plot.hist(bins=10)"
   ]
  },
  {
   "cell_type": "code",
   "execution_count": 27,
   "metadata": {},
   "outputs": [
    {
     "data": {
      "text/plain": [
       "<seaborn.axisgrid.FacetGrid at 0x11f1c5d68>"
      ]
     },
     "execution_count": 27,
     "metadata": {},
     "output_type": "execute_result"
    },
    {
     "data": {
      "image/png": "[encoded data removed]",
      "text/plain": [
       "<matplotlib.figure.Figure at 0x11f437080>"
      ]
     },
     "metadata": {},
     "output_type": "display_data"
    }
   ],
   "source": [
    "#no_churn_df['Total SMS Spend'].describe()\n",
    "sns.factorplot(x='Churn Status', data=binned_train_df, kind='count', col='cat_sms_spend')"
   ]
  },
  {
   "cell_type": "markdown",
   "metadata": {},
   "source": [
    "## Total Data Spend"
   ]
  },
  {
   "cell_type": "code",
   "execution_count": 28,
   "metadata": {
    "collapsed": true
   },
   "outputs": [],
   "source": [
    "#churn_df['Total Data Spend'].plot.hist()"
   ]
  },
  {
   "cell_type": "code",
   "execution_count": 29,
   "metadata": {
    "collapsed": true
   },
   "outputs": [],
   "source": [
    "#churn_df['Total Data Spend'].describe()"
   ]
  },
  {
   "cell_type": "code",
   "execution_count": 30,
   "metadata": {
    "collapsed": true
   },
   "outputs": [],
   "source": [
    "#no_churn_df['Total Data Spend'].plot.hist()"
   ]
  },
  {
   "cell_type": "code",
   "execution_count": 31,
   "metadata": {},
   "outputs": [
    {
     "data": {
      "text/plain": [
       "<seaborn.axisgrid.FacetGrid at 0x11f6e4f98>"
      ]
     },
     "execution_count": 31,
     "metadata": {},
     "output_type": "execute_result"
    },
    {
     "data": {
      "image/png": "[encoded data removed]",
      "text/plain": [
       "<matplotlib.figure.Figure at 0x11f42bda0>"
      ]
     },
     "metadata": {},
     "output_type": "display_data"
    }
   ],
   "source": [
    "#no_churn_df['Total Data Spend'].describe()\n",
    "sns.factorplot(x='Churn Status', data=binned_train_df, kind='count', col='cat_data_spend')"
   ]
  },
  {
   "cell_type": "markdown",
   "metadata": {},
   "source": [
    "_there might be something to look at here_"
   ]
  },
  {
   "cell_type": "markdown",
   "metadata": {},
   "source": [
    "## Total Data Consumption"
   ]
  },
  {
   "cell_type": "code",
   "execution_count": 32,
   "metadata": {
    "collapsed": true
   },
   "outputs": [],
   "source": [
    "#churn_df['Total Data Consumption'].plot.hist()"
   ]
  },
  {
   "cell_type": "code",
   "execution_count": 33,
   "metadata": {
    "collapsed": true
   },
   "outputs": [],
   "source": [
    "#churn_df['Total Data Consumption'].describe()"
   ]
  },
  {
   "cell_type": "code",
   "execution_count": 34,
   "metadata": {
    "collapsed": true
   },
   "outputs": [],
   "source": [
    "#no_churn_df['Total Data Consumption'].plot.hist()"
   ]
  },
  {
   "cell_type": "code",
   "execution_count": 35,
   "metadata": {},
   "outputs": [
    {
     "data": {
      "text/plain": [
       "<seaborn.axisgrid.FacetGrid at 0x11fba3da0>"
      ]
     },
     "execution_count": 35,
     "metadata": {},
     "output_type": "execute_result"
    },
    {
     "data": {
      "image/png": "[encoded data removed]",
      "text/plain": [
       "<matplotlib.figure.Figure at 0x11fb4a5c0>"
      ]
     },
     "metadata": {},
     "output_type": "display_data"
    }
   ],
   "source": [
    "#no_churn_df['Total Data Consumption'].describe()\n",
    "sns.factorplot(x='Churn Status', data=binned_train_df, kind='count', col='cat_data_consumption')"
   ]
  },
  {
   "cell_type": "markdown",
   "metadata": {},
   "source": [
    "_there might also be something to look at here_"
   ]
  },
  {
   "cell_type": "markdown",
   "metadata": {},
   "source": [
    "## Total Unique Calls"
   ]
  },
  {
   "cell_type": "code",
   "execution_count": 36,
   "metadata": {
    "collapsed": true
   },
   "outputs": [],
   "source": [
    "#churn_df['Total Unique Calls'].plot.hist(bins=20)"
   ]
  },
  {
   "cell_type": "code",
   "execution_count": 37,
   "metadata": {},
   "outputs": [
    {
     "data": {
      "text/plain": [
       "<seaborn.axisgrid.FacetGrid at 0x11f884fd0>"
      ]
     },
     "execution_count": 37,
     "metadata": {},
     "output_type": "execute_result"
    },
    {
     "data": {
      "image/png": "[encoded data removed]",
      "text/plain": [
       "<matplotlib.figure.Figure at 0x1201ed278>"
      ]
     },
     "metadata": {},
     "output_type": "display_data"
    }
   ],
   "source": [
    "#no_churn_df['Total Unique Calls'].plot.hist(bins=20)\n",
    "sns.factorplot(x='Churn Status', data=binned_train_df, kind='count', col='cat_unique_calls')"
   ]
  },
  {
   "cell_type": "markdown",
   "metadata": {},
   "source": [
    "_There might be something to look at here_"
   ]
  },
  {
   "cell_type": "markdown",
   "metadata": {},
   "source": [
    "## More Offnet"
   ]
  },
  {
   "cell_type": "code",
   "execution_count": 38,
   "metadata": {},
   "outputs": [
    {
     "data": {
      "text/plain": [
       "<seaborn.axisgrid.FacetGrid at 0x120657f60>"
      ]
     },
     "execution_count": 38,
     "metadata": {},
     "output_type": "execute_result"
    },
    {
     "data": {
      "image/png": "[encoded data removed]",
      "text/plain": [
       "<matplotlib.figure.Figure at 0x120657e80>"
      ]
     },
     "metadata": {},
     "output_type": "display_data"
    }
   ],
   "source": [
    "sns.factorplot(x='Churn Status', data=binned_train_df, kind='count', col='more_offnet')"
   ]
  },
  {
   "cell_type": "markdown",
   "metadata": {},
   "source": [
    "## Total Onnet spend"
   ]
  },
  {
   "cell_type": "code",
   "execution_count": 39,
   "metadata": {
    "collapsed": true
   },
   "outputs": [],
   "source": [
    "#churn_df['Total Onnet spend '].plot.hist()"
   ]
  },
  {
   "cell_type": "code",
   "execution_count": 40,
   "metadata": {
    "collapsed": true
   },
   "outputs": [],
   "source": [
    "#churn_df['Total Onnet spend '].describe()"
   ]
  },
  {
   "cell_type": "code",
   "execution_count": 41,
   "metadata": {
    "collapsed": true
   },
   "outputs": [],
   "source": [
    "#no_churn_df['Total Onnet spend '].plot.hist()"
   ]
  },
  {
   "cell_type": "code",
   "execution_count": 42,
   "metadata": {},
   "outputs": [
    {
     "data": {
      "text/plain": [
       "<seaborn.axisgrid.FacetGrid at 0x120801438>"
      ]
     },
     "execution_count": 42,
     "metadata": {},
     "output_type": "execute_result"
    },
    {
     "data": {
      "image/png": "[encoded data removed]",
      "text/plain": [
       "<matplotlib.figure.Figure at 0x11feaeda0>"
      ]
     },
     "metadata": {},
     "output_type": "display_data"
    }
   ],
   "source": [
    "#no_churn_df['Total Onnet spend '].describe()\n",
    "sns.factorplot(x='Churn Status', data=binned_train_df, kind='count', col='cat_onnet_spend')"
   ]
  },
  {
   "cell_type": "markdown",
   "metadata": {},
   "source": [
    "## Total Offnet spend"
   ]
  },
  {
   "cell_type": "code",
   "execution_count": 43,
   "metadata": {
    "collapsed": true
   },
   "outputs": [],
   "source": [
    "#churn_df['Total Offnet spend'].plot.hist(bins=20)"
   ]
  },
  {
   "cell_type": "code",
   "execution_count": 44,
   "metadata": {},
   "outputs": [
    {
     "data": {
      "text/plain": [
       "<seaborn.axisgrid.FacetGrid at 0x11ffbf6d8>"
      ]
     },
     "execution_count": 44,
     "metadata": {},
     "output_type": "execute_result"
    },
    {
     "data": {
      "image/png": "[encoded data removed]",
      "text/plain": [
       "<matplotlib.figure.Figure at 0x120c9f2e8>"
      ]
     },
     "metadata": {},
     "output_type": "display_data"
    }
   ],
   "source": [
    "#no_churn_df['Total Offnet spend'].plot.hist(bins=20)\n",
    "sns.factorplot(x='Churn Status', data=binned_train_df, kind='count', col='cat_offnet_spend')"
   ]
  },
  {
   "cell_type": "markdown",
   "metadata": {},
   "source": [
    "_something here_"
   ]
  },
  {
   "cell_type": "markdown",
   "metadata": {},
   "source": []
  },
  {
   "cell_type": "markdown",
   "metadata": {},
   "source": [
    "## Total Call centre complaint calls"
   ]
  },
  {
   "cell_type": "code",
   "execution_count": 45,
   "metadata": {
    "collapsed": true
   },
   "outputs": [],
   "source": [
    "#churn_df['Total Call centre complaint calls'].plot.hist()"
   ]
  },
  {
   "cell_type": "code",
   "execution_count": 46,
   "metadata": {},
   "outputs": [
    {
     "data": {
      "text/plain": [
       "<seaborn.axisgrid.FacetGrid at 0x120cc2048>"
      ]
     },
     "execution_count": 46,
     "metadata": {},
     "output_type": "execute_result"
    },
    {
     "data": {
      "image/png": "[encoded data removed]",
      "text/plain": [
       "<matplotlib.figure.Figure at 0x11fefa6d8>"
      ]
     },
     "metadata": {},
     "output_type": "display_data"
    }
   ],
   "source": [
    "#no_churn_df['Total Call centre complaint calls'].plot.hist()\n",
    "sns.factorplot(x='Churn Status', data=binned_train_df, kind='count', col='cat_complaints')"
   ]
  },
  {
   "cell_type": "markdown",
   "metadata": {},
   "source": [
    "_Definitely something here_"
   ]
  },
  {
   "cell_type": "markdown",
   "metadata": {},
   "source": [
    "## Network type subscription in Month 1"
   ]
  },
  {
   "cell_type": "code",
   "execution_count": 47,
   "metadata": {
    "collapsed": true
   },
   "outputs": [],
   "source": [
    "#churn_df['Network type subscription in Month 1'].value_counts().plot.bar()"
   ]
  },
  {
   "cell_type": "code",
   "execution_count": 48,
   "metadata": {},
   "outputs": [
    {
     "data": {
      "text/plain": [
       "<seaborn.axisgrid.FacetGrid at 0x120cca780>"
      ]
     },
     "execution_count": 48,
     "metadata": {},
     "output_type": "execute_result"
    },
    {
     "data": {
      "image/png": "[encoded data removed]",
      "text/plain": [
       "<matplotlib.figure.Figure at 0x11f414630>"
      ]
     },
     "metadata": {},
     "output_type": "display_data"
    }
   ],
   "source": [
    "#no_churn_df['Network type subscription in Month 1'].value_counts().plot.bar()\n",
    "sns.factorplot(x='Churn Status', data=binned_train_df, kind='count', col='Network type subscription in Month 1')"
   ]
  },
  {
   "cell_type": "markdown",
   "metadata": {},
   "source": [
    "## Network type subscription in Month 2"
   ]
  },
  {
   "cell_type": "code",
   "execution_count": 49,
   "metadata": {
    "collapsed": true
   },
   "outputs": [],
   "source": [
    "#churn_df['Network type subscription in Month 2'].value_counts().plot.bar()"
   ]
  },
  {
   "cell_type": "code",
   "execution_count": 50,
   "metadata": {},
   "outputs": [
    {
     "data": {
      "text/plain": [
       "<seaborn.axisgrid.FacetGrid at 0x120c76a20>"
      ]
     },
     "execution_count": 50,
     "metadata": {},
     "output_type": "execute_result"
    },
    {
     "data": {
      "image/png": "[encoded data removed]",
      "text/plain": [
       "<matplotlib.figure.Figure at 0x1215b05f8>"
      ]
     },
     "metadata": {},
     "output_type": "display_data"
    }
   ],
   "source": [
    "#no_churn_df['Network type subscription in Month 2'].value_counts().plot.bar()\n",
    "sns.factorplot(x='Churn Status', data=binned_train_df, kind='count', col='Network type subscription in Month 2')"
   ]
  },
  {
   "cell_type": "markdown",
   "metadata": {},
   "source": [
    "## Most Loved Competitor network in in Month 1"
   ]
  },
  {
   "cell_type": "code",
   "execution_count": 51,
   "metadata": {
    "collapsed": true
   },
   "outputs": [],
   "source": [
    "#churn_df['Most Loved Competitor network in in Month 1'].value_counts().plot.bar()"
   ]
  },
  {
   "cell_type": "code",
   "execution_count": 52,
   "metadata": {},
   "outputs": [
    {
     "data": {
      "text/plain": [
       "<seaborn.axisgrid.FacetGrid at 0x121a75b70>"
      ]
     },
     "execution_count": 52,
     "metadata": {},
     "output_type": "execute_result"
    },
    {
     "data": {
      "image/png": "[encoded data removed]",
      "text/plain": [
       "<matplotlib.figure.Figure at 0x1208874a8>"
      ]
     },
     "metadata": {},
     "output_type": "display_data"
    }
   ],
   "source": [
    "#no_churn_df['Most Loved Competitor network in in Month 1'].value_counts().plot.bar()\n",
    "sns.factorplot(x='Churn Status', data=binned_train_df, kind='count', col='Most Loved Competitor network in in Month 1')"
   ]
  },
  {
   "cell_type": "markdown",
   "metadata": {},
   "source": [
    "## Most Loved Competitor network in in Month 2"
   ]
  },
  {
   "cell_type": "code",
   "execution_count": 53,
   "metadata": {
    "collapsed": true
   },
   "outputs": [],
   "source": [
    "#churn_df['Most Loved Competitor network in in Month 2'].value_counts().plot.bar()"
   ]
  },
  {
   "cell_type": "code",
   "execution_count": 54,
   "metadata": {},
   "outputs": [
    {
     "data": {
      "text/plain": [
       "<seaborn.axisgrid.FacetGrid at 0x121e37d30>"
      ]
     },
     "execution_count": 54,
     "metadata": {},
     "output_type": "execute_result"
    },
    {
     "data": {
      "image/png": "[encoded data removed]",
      "text/plain": [
       "<matplotlib.figure.Figure at 0x121968e48>"
      ]
     },
     "metadata": {},
     "output_type": "display_data"
    }
   ],
   "source": [
    "#no_churn_df['Most Loved Competitor network in in Month 2'].value_counts().plot.bar()\n",
    "sns.factorplot(x='Churn Status', data=binned_train_df, kind='count', col='Most Loved Competitor network in in Month 2')"
   ]
  },
  {
   "cell_type": "markdown",
   "metadata": {},
   "source": [
    "# Decision Tree Classifier"
   ]
  },
  {
   "cell_type": "code",
   "execution_count": 55,
   "metadata": {},
   "outputs": [
    {
     "name": "stdout",
     "output_type": "stream",
     "text": [
      "<class 'pandas.core.frame.DataFrame'>\n",
      "Index: 1400 entries, ADF0039 to ADF1982\n",
      "Data columns (total 27 columns):\n",
      "Customer tenure in month                                1400 non-null float64\n",
      "Churn Status                                            1400 non-null float64\n",
      "more_offnet                                             1400 non-null bool\n",
      "cat_network_age                                         1400 non-null int64\n",
      "cat_spend                                               1400 non-null int64\n",
      "cat_sms_spend                                           1400 non-null int64\n",
      "cat_data_spend                                          1400 non-null int64\n",
      "cat_data_consumption                                    1400 non-null int64\n",
      "cat_unique_calls                                        1400 non-null int64\n",
      "cat_onnet_spend                                         1400 non-null int64\n",
      "cat_offnet_spend                                        1400 non-null int64\n",
      "cat_complaints                                          1400 non-null int64\n",
      "Network type subscription in Month 1_3G                 1400 non-null uint8\n",
      "Network type subscription in Month 1_Other              1400 non-null uint8\n",
      "Network type subscription in Month 2_3G                 1400 non-null uint8\n",
      "Network type subscription in Month 2_Other              1400 non-null uint8\n",
      "Most Loved Competitor network in in Month 1_Mango       1400 non-null uint8\n",
      "Most Loved Competitor network in in Month 1_PQza        1400 non-null uint8\n",
      "Most Loved Competitor network in in Month 1_ToCall      1400 non-null uint8\n",
      "Most Loved Competitor network in in Month 1_Uxaa        1400 non-null uint8\n",
      "Most Loved Competitor network in in Month 1_Weematel    1400 non-null uint8\n",
      "Most Loved Competitor network in in Month 1_Zintel      1400 non-null uint8\n",
      "Most Loved Competitor network in in Month 2_PQza        1400 non-null uint8\n",
      "Most Loved Competitor network in in Month 2_ToCall      1400 non-null uint8\n",
      "Most Loved Competitor network in in Month 2_Uxaa        1400 non-null uint8\n",
      "Most Loved Competitor network in in Month 2_Weematel    1400 non-null uint8\n",
      "Most Loved Competitor network in in Month 2_Zintel      1400 non-null uint8\n",
      "dtypes: bool(1), float64(2), int64(9), uint8(15)\n",
      "memory usage: 193.1+ KB\n"
     ]
    }
   ],
   "source": [
    "cleaned_train_df.info()"
   ]
  },
  {
   "cell_type": "code",
   "execution_count": 56,
   "metadata": {
    "collapsed": true
   },
   "outputs": [],
   "source": [
    "input_df = cleaned_train_df.drop(['Churn Status', 'Customer tenure in month', 'cat_complaints'], axis=1)\n",
    "output_df = cleaned_train_df['Churn Status']\n",
    "X = input_df.values\n",
    "y = output_df.values"
   ]
  },
  {
   "cell_type": "code",
   "execution_count": 57,
   "metadata": {},
   "outputs": [
    {
     "name": "stdout",
     "output_type": "stream",
     "text": [
      "Tuned Decision Tree Parameters: {'max_depth': 4}\n",
      "Best score is 0.7164285714285714\n"
     ]
    }
   ],
   "source": [
    "# Setup the hyperparameter grid\n",
    "dep = np.arange(1,40)\n",
    "param_grid = {'max_depth': dep}\n",
    "\n",
    "# Instantiate a decision tree classifier: clf\n",
    "clf = tree.DecisionTreeClassifier()\n",
    "\n",
    "# Instantiate the GridSearchCV object: clf_cv\n",
    "clf_cv = GridSearchCV(clf, param_grid=param_grid, cv=10)\n",
    "\n",
    "# Fit it to the data\n",
    "clf_cv.fit(X, y)\n",
    "\n",
    "# Print the tuned parameter and score\n",
    "print(\"Tuned Decision Tree Parameters: {}\".format(clf_cv.best_params_))\n",
    "print(\"Best score is {}\".format(clf_cv.best_score_))"
   ]
  },
  {
   "cell_type": "markdown",
   "metadata": {},
   "source": [
    "### Visualize the model"
   ]
  },
  {
   "cell_type": "code",
   "execution_count": 58,
   "metadata": {
    "collapsed": true
   },
   "outputs": [],
   "source": [
    "max_depth = 4"
   ]
  },
  {
   "cell_type": "code",
   "execution_count": 59,
   "metadata": {},
   "outputs": [
    {
     "data": {
      "text/plain": [
       "'Churn Prediction.pdf'"
      ]
     },
     "execution_count": 59,
     "metadata": {},
     "output_type": "execute_result"
    }
   ],
   "source": [
    "clf_viz = tree.DecisionTreeClassifier(max_depth=max_depth)\n",
    "clf_viz.fit(X,y)\n",
    "viz = tree.export_graphviz(clf_viz, out_file=None, feature_names = input_df.columns)\n",
    "graph = graphviz.Source(viz) \n",
    "graph.render(\"Churn Prediction\")"
   ]
  },
  {
   "cell_type": "code",
   "execution_count": 60,
   "metadata": {
    "collapsed": true
   },
   "outputs": [],
   "source": [
    "binned_test_df = create_bins(test_df)\n",
    "cleaned_test_df = create_dummies(binned_test_df)"
   ]
  },
  {
   "cell_type": "code",
   "execution_count": 61,
   "metadata": {
    "collapsed": true
   },
   "outputs": [],
   "source": [
    "test = cleaned_test_df.drop([ 'Customer tenure in month', 'cat_complaints'], axis=1).values\n",
    "y_pred = clf_cv.predict(test)"
   ]
  },
  {
   "cell_type": "code",
   "execution_count": 62,
   "metadata": {
    "collapsed": true
   },
   "outputs": [],
   "source": [
    "cleaned_test_df['Churn'] = y_pred"
   ]
  },
  {
   "cell_type": "code",
   "execution_count": 63,
   "metadata": {
    "collapsed": true
   },
   "outputs": [],
   "source": [
    "cleaned_test_df['Churn Status'] = cleaned_test_df['Churn'].apply(lambda x: int(x))"
   ]
  },
  {
   "cell_type": "code",
   "execution_count": 64,
   "metadata": {},
   "outputs": [
    {
     "data": {
      "text/html": [
       "<div>\n",
       "<style scoped>\n",
       "    .dataframe tbody tr th:only-of-type {\n",
       "        vertical-align: middle;\n",
       "    }\n",
       "\n",
       "    .dataframe tbody tr th {\n",
       "        vertical-align: top;\n",
       "    }\n",
       "\n",
       "    .dataframe thead th {\n",
       "        text-align: right;\n",
       "    }\n",
       "</style>\n",
       "<table border=\"1\" class=\"dataframe\">\n",
       "  <thead>\n",
       "    <tr style=\"text-align: right;\">\n",
       "      <th></th>\n",
       "      <th>Churn Status</th>\n",
       "    </tr>\n",
       "    <tr>\n",
       "      <th>Customer ID</th>\n",
       "      <th></th>\n",
       "    </tr>\n",
       "  </thead>\n",
       "  <tbody>\n",
       "    <tr>\n",
       "      <th>ADF0001</th>\n",
       "      <td>0</td>\n",
       "    </tr>\n",
       "    <tr>\n",
       "      <th>ADF0002</th>\n",
       "      <td>1</td>\n",
       "    </tr>\n",
       "    <tr>\n",
       "      <th>ADF0003</th>\n",
       "      <td>0</td>\n",
       "    </tr>\n",
       "    <tr>\n",
       "      <th>ADF0004</th>\n",
       "      <td>1</td>\n",
       "    </tr>\n",
       "    <tr>\n",
       "      <th>ADF0005</th>\n",
       "      <td>1</td>\n",
       "    </tr>\n",
       "  </tbody>\n",
       "</table>\n",
       "</div>"
      ],
      "text/plain": [
       "             Churn Status\n",
       "Customer ID              \n",
       "ADF0001                 0\n",
       "ADF0002                 1\n",
       "ADF0003                 0\n",
       "ADF0004                 1\n",
       "ADF0005                 1"
      ]
     },
     "execution_count": 64,
     "metadata": {},
     "output_type": "execute_result"
    }
   ],
   "source": [
    "cleaned_test_df[['Churn Status']].head()"
   ]
  },
  {
   "cell_type": "code",
   "execution_count": 65,
   "metadata": {
    "collapsed": true
   },
   "outputs": [],
   "source": [
    "cleaned_test_df[['Churn Status']].to_csv('predictions/dec_tree_feat_eng.csv', index=True)"
   ]
  },
  {
   "cell_type": "markdown",
   "metadata": {},
   "source": [
    "Submission Accuracy: 0.58888"
   ]
  },
  {
   "cell_type": "code",
   "execution_count": 66,
   "metadata": {
    "collapsed": true
   },
   "outputs": [],
   "source": [
    "## Baseline Model"
   ]
  },
  {
   "cell_type": "code",
   "execution_count": 67,
   "metadata": {
    "collapsed": true
   },
   "outputs": [],
   "source": [
    "# create a baseline model\n",
    "#baseline_df = subset_test.drop(['Churn Status'], axis=1)\n",
    "#baseline_df['Churn Status'] = 0\n",
    "#baseline_df[['Churn Status']].to_csv('predictions/baseline.csv', index=True)"
   ]
  },
  {
   "cell_type": "markdown",
   "metadata": {},
   "source": [
    "Submission Accuracy: 0.55555"
   ]
  },
  {
   "cell_type": "markdown",
   "metadata": {},
   "source": [
    "# Ensemble"
   ]
  },
  {
   "cell_type": "markdown",
   "metadata": {},
   "source": [
    "## Random Forest Classifier"
   ]
  },
  {
   "cell_type": "code",
   "execution_count": 68,
   "metadata": {
    "collapsed": true
   },
   "outputs": [],
   "source": [
    "n_estimators = 50"
   ]
  },
  {
   "cell_type": "code",
   "execution_count": 69,
   "metadata": {
    "collapsed": true
   },
   "outputs": [],
   "source": [
    "clf_rf = RandomForestClassifier(n_estimators= n_estimators, max_depth= max_depth)\n",
    "clf_rf = clf_rf.fit(X, y)"
   ]
  },
  {
   "cell_type": "code",
   "execution_count": 70,
   "metadata": {
    "collapsed": true
   },
   "outputs": [],
   "source": [
    "cleaned_test_df = create_dummies(binned_test_df)\n",
    "test = cleaned_test_df.drop([ 'Customer tenure in month', 'cat_complaints'], axis=1).values\n",
    "y_pred = clf_rf.predict(test)"
   ]
  },
  {
   "cell_type": "code",
   "execution_count": 71,
   "metadata": {
    "collapsed": true
   },
   "outputs": [],
   "source": [
    "cleaned_test_df['Churn'] = y_pred\n",
    "cleaned_test_df['Churn Status'] = cleaned_test_df['Churn'].apply(lambda x: int(x))\n",
    "cleaned_test_df[['Churn Status']].to_csv('predictions/random_forest.csv', index=True)"
   ]
  },
  {
   "cell_type": "markdown",
   "metadata": {},
   "source": [
    "* Submission Accuracy: 0.65000 w/ 10 Estimators\n",
    "* Submission Accuracy: 0.70555 w/ 20 Estimators\n",
    "* Submission Accuracy: 0.72222 w/ 40 Estimators\n",
    "* Submission Accuracy: 0.71111 w/ 60 Estimators"
   ]
  },
  {
   "cell_type": "markdown",
   "metadata": {},
   "source": [
    "## Extremely Randomized Trees Classifier"
   ]
  },
  {
   "cell_type": "code",
   "execution_count": 72,
   "metadata": {
    "collapsed": true
   },
   "outputs": [],
   "source": [
    "n_estimators = 40\n",
    "clf_et = ExtraTreesClassifier(n_estimators= n_estimators, max_depth= max_depth)\n",
    "clf_et = clf_et.fit(X, y)"
   ]
  },
  {
   "cell_type": "code",
   "execution_count": 73,
   "metadata": {
    "collapsed": true
   },
   "outputs": [],
   "source": [
    "cleaned_test_df = create_dummies(binned_test_df)\n",
    "test = cleaned_test_df.drop([ 'Customer tenure in month', 'cat_complaints'], axis=1).values\n",
    "y_pred = clf_et.predict(test)"
   ]
  },
  {
   "cell_type": "code",
   "execution_count": 74,
   "metadata": {
    "collapsed": true
   },
   "outputs": [],
   "source": [
    "cleaned_test_df['Churn'] = y_pred\n",
    "cleaned_test_df['Churn Status'] = cleaned_test_df['Churn'].apply(lambda x: int(x))\n",
    "cleaned_test_df[['Churn Status']].to_csv('predictions/extra_trees.csv', index=True)"
   ]
  },
  {
   "cell_type": "markdown",
   "metadata": {},
   "source": [
    "* Submission Accuracy: "
   ]
  },
  {
   "cell_type": "markdown",
   "metadata": {},
   "source": [
    "## Adaboost Classifier"
   ]
  },
  {
   "cell_type": "code",
   "execution_count": 78,
   "metadata": {
    "collapsed": true
   },
   "outputs": [],
   "source": [
    "n_estimators = 200\n",
    "clf_ada = AdaBoostClassifier(DecisionTreeClassifier(max_depth= 4), algorithm=\"SAMME\", n_estimators= n_estimators)\n",
    "clf_ada = clf_ada.fit(X, y)"
   ]
  },
  {
   "cell_type": "code",
   "execution_count": 79,
   "metadata": {
    "collapsed": true
   },
   "outputs": [],
   "source": [
    "cleaned_test_df = create_dummies(binned_test_df)\n",
    "test = cleaned_test_df.drop([ 'Customer tenure in month', 'cat_complaints'], axis=1).values\n",
    "y_pred = clf_et.predict(test)"
   ]
  },
  {
   "cell_type": "code",
   "execution_count": 80,
   "metadata": {
    "collapsed": true
   },
   "outputs": [],
   "source": [
    "cleaned_test_df['Churn'] = y_pred\n",
    "cleaned_test_df['Churn Status'] = cleaned_test_df['Churn'].apply(lambda x: int(x))\n",
    "cleaned_test_df[['Churn Status']].to_csv('predictions/adaboost.csv', index=True)"
   ]
  },
  {
   "cell_type": "markdown",
   "metadata": {},
   "source": [
    "* Submission Accuracy: "
   ]
  },
  {
   "cell_type": "code",
   "execution_count": null,
   "metadata": {
    "collapsed": true
   },
   "outputs": [],
   "source": []
  }
 ],
 "metadata": {
  "kernelspec": {
   "display_name": "Python 3",
   "language": "python",
   "name": "python3"
  },
  "language_info": {
   "codemirror_mode": {
    "name": "ipython",
    "version": 3
   },
   "file_extension": ".py",
   "mimetype": "text/x-python",
   "name": "python",
   "nbconvert_exporter": "python",
   "pygments_lexer": "ipython3",
   "version": "3.6.0"
  }
 },
 "nbformat": 4,
 "nbformat_minor": 2
}
